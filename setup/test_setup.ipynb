{
 "cells": [
  {
   "cell_type": "code",
   "execution_count": 1,
   "metadata": {},
   "outputs": [
    {
     "name": "stdout",
     "output_type": "stream",
     "text": [
      "scikit-learn version: 1.2.0\n",
      "numpy version: 1.24.1\n",
      "pandas version: 1.5.2\n",
      "Succeeded\n"
     ]
    }
   ],
   "source": [
    "try:\n",
    "    import sklearn\n",
    "    import pandas as pd\n",
    "    import numpy as np\n",
    "    \n",
    "    print(f'scikit-learn version: {sklearn.__version__}') \n",
    "    print(f'numpy version: {np.__version__}') \n",
    "    print(f'pandas version: {pd.__version__}')    \n",
    "    print('Succeeded')\n",
    "except:\n",
    "    print(\"Didn't succeed\")"
   ]
  },
  {
   "cell_type": "code",
   "execution_count": null,
   "metadata": {},
   "outputs": [],
   "source": []
  }
 ],
 "metadata": {
  "kernelspec": {
   "display_name": "ml_conc",
   "language": "python",
   "name": "python3"
  },
  "language_info": {
   "codemirror_mode": {
    "name": "ipython",
    "version": 3
   },
   "file_extension": ".py",
   "mimetype": "text/x-python",
   "name": "python",
   "nbconvert_exporter": "python",
   "pygments_lexer": "ipython3",
   "version": "3.10.9"
  },
  "orig_nbformat": 4,
  "vscode": {
   "interpreter": {
    "hash": "e5ee8c7770c3fabe2d6aca362ba66f2a31e3498658fa320c61e4ecaad192d46a"
   }
  }
 },
 "nbformat": 4,
 "nbformat_minor": 2
}
